{
 "cells": [
  {
   "cell_type": "code",
   "execution_count": 11,
   "metadata": {},
   "outputs": [],
   "source": [
    "import gym\n",
    "import numpy as np\n",
    "import tensorflow.compat.v1 as tf\n",
    "import matplotlib.pyplot as plt\n",
    "tf.disable_v2_behavior() # 텐서플로우 버전 1 함수 사용 "
   ]
  },
  {
   "cell_type": "code",
   "execution_count": 12,
   "metadata": {},
   "outputs": [],
   "source": [
    "env = gym.make('FrozenLake-v0')"
   ]
  },
  {
   "cell_type": "code",
   "execution_count": 26,
   "metadata": {},
   "outputs": [],
   "source": [
    "input_size = env.observation_space.n\n",
    "output_size = env.action_space.n\n",
    "learning_rate = 0.1"
   ]
  },
  {
   "cell_type": "code",
   "execution_count": 27,
   "metadata": {},
   "outputs": [],
   "source": [
    "X = tf.placeholder(shape=[1, input_size], dtype=tf.float32) # 입력층 \n",
    "W = tf.Variable(tf.random_uniform([input_size, output_size], 0, 0.01)) # 학습할 파라미터\n",
    "Qpred = tf.matmul(X, W) # 결과 \n",
    "Y = tf.placeholder(shape=[1, output_size], dtype=tf.float32) # 레이블 "
   ]
  },
  {
   "cell_type": "code",
   "execution_count": 28,
   "metadata": {},
   "outputs": [],
   "source": [
    "loss = tf.reduce_sum(tf.square(Y-Qpred)) # 제곱오차 \n",
    "train = tf.train.GradientDescentOptimizer(learning_rate=learning_rate).minimize(loss)\n",
    "init = tf.global_variables_initializer()"
   ]
  },
  {
   "cell_type": "code",
   "execution_count": 29,
   "metadata": {},
   "outputs": [],
   "source": [
    "dis = 0.99\n",
    "num_episode = 2000\n",
    "rList = []"
   ]
  },
  {
   "cell_type": "code",
   "execution_count": 30,
   "metadata": {},
   "outputs": [],
   "source": [
    "def one_hot(x): # 입력 데이터를 one-hot encoding으로 변환 \n",
    "    return np.identity(input_size)[x:x+1] # identity 행렬 만들고 그중 x번째 행 선택 "
   ]
  },
  {
   "cell_type": "code",
   "execution_count": 33,
   "metadata": {},
   "outputs": [
    {
     "name": "stdout",
     "output_type": "stream",
     "text": [
      "Episode: 0\n",
      "Episode: 400\n",
      "Episode: 800\n",
      "Episode: 1200\n",
      "Episode: 1600\n"
     ]
    }
   ],
   "source": [
    "with tf.Session() as sess:\n",
    "    sess.run(init) # 초기화 \n",
    "    for i in range(num_episode):\n",
    "        if i%400==0:\n",
    "            print(\"Episode: \"+str(i))\n",
    "        \n",
    "        state = env.reset()\n",
    "        e = 1.0/((i/50)+10) # E-Greedy 알고리즘 사용 \n",
    "        rAll = 0\n",
    "        done = False\n",
    "        local_loss = []\n",
    "        \n",
    "        while not done:\n",
    "            Qs = sess.run(Qpred, feed_dict={X: one_hot(state)}) # 신경망 결과값 계산\n",
    "            action = np.argmax(Qs) # 신경망 결과로 action 선택 \n",
    "            if np.random.rand(1) < e: # E-Greedy\n",
    "                action = env.action_space.sample() # action 아무거나 선택\n",
    "            \n",
    "            state_next, reward, done, _ = env.step(action) # 선택한 action으로 다음 스텝 진행\n",
    "            if done: # 만약 도착지점이라면 Q를 reward로 설정 \n",
    "                Qs[0, action] = reward\n",
    "            else: # 아니라면 Q(state) = reward * dis*Q(next state) 로 Q 업데이트 \n",
    "                Qs_next = sess.run(Qpred, feed_dict={X: one_hot(state_next)})\n",
    "                Qs[0, action] = reward + dis*np.max(Qs_next)\n",
    "                \n",
    "            sess.run(train, feed_dict={X: one_hot(state), Y:Qs})\n",
    "            \n",
    "            rAll += reward\n",
    "            state = state_next\n",
    "            \n",
    "        rList.append(rAll)"
   ]
  },
  {
   "cell_type": "code",
   "execution_count": 36,
   "metadata": {},
   "outputs": [
    {
     "name": "stdout",
     "output_type": "stream",
     "text": [
      "Successful episodes: 60.5%\n"
     ]
    },
    {
     "data": {
      "image/png": "[encoded data removed]",
      "text/plain": [
       "<Figure size 432x288 with 1 Axes>"
      ]
     },
     "metadata": {
      "needs_background": "light"
     },
     "output_type": "display_data"
    }
   ],
   "source": [
    "print(\"Successful episodes: \"+str(sum(rList)*100/num_episode)+\"%\")\n",
    "plt.bar(range(len(rList)), rList)\n",
    "plt.show()"
   ]
  }
 ],
 "metadata": {
  "kernelspec": {
   "display_name": "Python 3",
   "language": "python",
   "name": "python3"
  },
  "language_info": {
   "codemirror_mode": {
    "name": "ipython",
    "version": 3
   },
   "file_extension": ".py",
   "mimetype": "text/x-python",
   "name": "python",
   "nbconvert_exporter": "python",
   "pygments_lexer": "ipython3",
   "version": "3.8.5"
  }
 },
 "nbformat": 4,
 "nbformat_minor": 4
}
