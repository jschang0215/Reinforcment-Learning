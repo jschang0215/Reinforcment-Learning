{
 "cells": [
  {
   "cell_type": "code",
   "execution_count": 1,
   "metadata": {},
   "outputs": [],
   "source": [
    "import tensorflow as tf"
   ]
  },
  {
   "cell_type": "code",
   "execution_count": 2,
   "metadata": {},
   "outputs": [],
   "source": [
    "import gym\n",
    "import numpy as np\n",
    "import matplotlib.pyplot as plt\n",
    "from gym.envs.registration import register\n",
    "import random as pr"
   ]
  },
  {
   "cell_type": "code",
   "execution_count": 3,
   "metadata": {},
   "outputs": [],
   "source": [
    "def rargmax(vector):\n",
    "    \"\"\"모두 0일때는 랜덤하게 인덱스를 주는 argmax 함수\"\"\"\n",
    "    m = np.amax(vector) # np.amax: argmax\n",
    "    indices = np.nonzero(vector==m)[0]\n",
    "    return pr.choice(indices)"
   ]
  },
  {
   "cell_type": "code",
   "execution_count": 4,
   "metadata": {},
   "outputs": [],
   "source": [
    "register(\n",
    "    id = 'FrozenLake-v3',\n",
    "    entry_point = 'gym.envs.toy_text:FrozenLakeEnv',\n",
    "    kwargs = {'map_name':'4x4', 'is_slippery':True}\n",
    ")"
   ]
  },
  {
   "cell_type": "code",
   "execution_count": 5,
   "metadata": {},
   "outputs": [],
   "source": [
    "env = gym.make('FrozenLake-v3')"
   ]
  },
  {
   "cell_type": "code",
   "execution_count": 9,
   "metadata": {},
   "outputs": [
    {
     "name": "stdout",
     "output_type": "stream",
     "text": [
      "Episdoe0\n",
      "Episdoe500\n",
      "Episdoe1000\n",
      "Episdoe1500\n"
     ]
    }
   ],
   "source": [
    "Q = np.zeros([env.observation_space.n, env.action_space.n]) # Q table 만들기\n",
    "dis = 0.99\n",
    "learning_rate = 0.8\n",
    "num_episodes = 2000\n",
    "\n",
    "rList = [] # 각 에피소드 마다 reward 저장 \n",
    "for i in range(num_episodes):\n",
    "    state = env.reset() # environment 재설정 \n",
    "    rAll = 0\n",
    "    done = False\n",
    "    if i%500==0:\n",
    "        print(\"Episdoe\"+str(i))\n",
    "    \n",
    "    while not done:\n",
    "        action = np.argmax(Q[state, :]+np.random.randn(1, env.action_space.n)/(i+1)) # action 선택 \n",
    "        new_state, reward, done, _ = env.step(action) # state 와 reward 업데이트 \n",
    "        Q[state, action] = learning_rate*(reward + dis*np.max(Q[new_state, :])) + (1-learning_rate)*Q[state, action] # Q-Table 업데이트 \n",
    "        rAll += reward\n",
    "        state = new_state\n",
    "    rList.append(rAll)"
   ]
  },
  {
   "cell_type": "code",
   "execution_count": 10,
   "metadata": {},
   "outputs": [
    {
     "name": "stdout",
     "output_type": "stream",
     "text": [
      "Success rate: 0.66\n",
      "Final Q-Table value\n",
      "Left Down Right Up\n",
      "[[1.43897763e-02 4.30776306e-01 1.21026291e-02 2.26934413e-02]\n",
      " [1.19803029e-04 7.24912361e-03 3.57015530e-04 3.91199541e-01]\n",
      " [5.75418303e-03 5.18779735e-03 5.44193464e-03 2.67700895e-01]\n",
      " [2.02328396e-03 2.22541335e-04 4.13404305e-04 2.21045296e-01]\n",
      " [3.09901923e-01 6.66015279e-04 6.44485966e-04 6.59975195e-04]\n",
      " [0.00000000e+00 0.00000000e+00 0.00000000e+00 0.00000000e+00]\n",
      " [1.94962568e-04 6.89967275e-05 4.93171011e-02 3.11346773e-04]\n",
      " [0.00000000e+00 0.00000000e+00 0.00000000e+00 0.00000000e+00]\n",
      " [3.24980357e-03 2.20662686e-03 4.44695829e-04 5.63901548e-01]\n",
      " [1.11285965e-03 3.98160900e-01 1.50301073e-03 0.00000000e+00]\n",
      " [8.35901775e-01 0.00000000e+00 1.02224779e-04 3.84531466e-03]\n",
      " [0.00000000e+00 0.00000000e+00 0.00000000e+00 0.00000000e+00]\n",
      " [0.00000000e+00 0.00000000e+00 0.00000000e+00 0.00000000e+00]\n",
      " [0.00000000e+00 5.70249217e-03 9.48254373e-01 1.46299649e-02]\n",
      " [0.00000000e+00 0.00000000e+00 9.92256727e-01 0.00000000e+00]\n",
      " [0.00000000e+00 0.00000000e+00 0.00000000e+00 0.00000000e+00]]\n"
     ]
    },
    {
     "data": {
      "image/png": "[encoded data removed]",
      "text/plain": [
       "<Figure size 432x288 with 1 Axes>"
      ]
     },
     "metadata": {
      "needs_background": "light"
     },
     "output_type": "display_data"
    }
   ],
   "source": [
    "print(\"Success rate: \" + str(sum(rList)/num_episodes))\n",
    "print(\"Final Q-Table value\")\n",
    "print(\"Left Down Right Up\")\n",
    "print(Q)\n",
    "plt.bar(range(len(rList)), rList)\n",
    "plt.show()"
   ]
  },
  {
   "cell_type": "code",
   "execution_count": null,
   "metadata": {},
   "outputs": [],
   "source": []
  }
 ],
 "metadata": {
  "kernelspec": {
   "display_name": "Python 3",
   "language": "python",
   "name": "python3"
  },
  "language_info": {
   "codemirror_mode": {
    "name": "ipython",
    "version": 3
   },
   "file_extension": ".py",
   "mimetype": "text/x-python",
   "name": "python",
   "nbconvert_exporter": "python",
   "pygments_lexer": "ipython3",
   "version": "3.8.5"
  }
 },
 "nbformat": 4,
 "nbformat_minor": 2
}
